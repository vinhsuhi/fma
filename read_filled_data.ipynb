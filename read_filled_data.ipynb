{
 "cells": [
  {
   "cell_type": "code",
   "execution_count": 77,
   "metadata": {},
   "outputs": [],
   "source": [
    "import pandas as pd\n",
    "import numpy as np\n",
    "import networkx as nx"
   ]
  },
  {
   "cell_type": "code",
   "execution_count": 78,
   "metadata": {},
   "outputs": [],
   "source": [
    "# load dataset\n",
    "track = pd.read_csv('tracks.csv')"
   ]
  },
  {
   "cell_type": "code",
   "execution_count": 79,
   "metadata": {},
   "outputs": [
    {
     "name": "stdout",
     "output_type": "stream",
     "text": [
      "Index(['track_id', 'genre_top', 'track_title', 'artist_name', 'artist_id',\n",
      "       'album_title', 'album_id'],\n",
      "      dtype='object')\n"
     ]
    }
   ],
   "source": [
    "print(track.keys())\n",
    "# print(track.loc[track['track_id'] == 2])"
   ]
  },
  {
   "cell_type": "code",
   "execution_count": 80,
   "metadata": {},
   "outputs": [],
   "source": [
    "artists = track.artist_id.unique()\n",
    "albums = track.album_id.unique()\n",
    "tracks = track.track_id.unique()\n",
    "genres = track.genre_top.unique()\n",
    "\n",
    "# info\n",
    "artist_info = {}\n",
    "for artist_id in artists:\n",
    "    artist_info[artist_id] = {}\n",
    "    artist_name = track.loc[track['artist_id'] == artist_id]['artist_name'].iloc[0]\n",
    "    artist_info[artist_id]['name'] = artist_name\n",
    "\n",
    "album_info = {}\n",
    "for album_id in albums:\n",
    "    album_info[album_id] = {}\n",
    "    album_title = track.loc[track['album_id'] == album_id]['album_title'].iloc[0]\n",
    "    album_info[album_id]['title'] = album_title\n",
    "    \n",
    "track_info = {}\n",
    "for tr_id in tracks:\n",
    "    track_info[tr_id] = {}\n",
    "    track_title = track.loc[track['track_id'] == tr_id]['track_title'].iloc[0]\n",
    "    track_info[tr_id]['title'] = track_title\n",
    "\n",
    "genre_info = {}\n",
    "for i in range(len(genres)):\n",
    "    genre_info[i] = {}\n",
    "    genre_name = genres[i]\n",
    "    genre_info[i]['name'] = genre_name\n",
    "    "
   ]
  },
  {
   "cell_type": "code",
   "execution_count": 82,
   "metadata": {},
   "outputs": [
    {
     "name": "stdout",
     "output_type": "stream",
     "text": [
      "Added 106574\n",
      "Added 121428\n",
      "Added 121445\n",
      "Added 137786\n"
     ]
    }
   ],
   "source": [
    "# Create HIN G\n",
    "# IS_TERM_USED = True\n",
    "\n",
    "# tracks - list of track_id\n",
    "# albums - list of album_id\n",
    "# genres - list of genres\n",
    "# artists - list of artists_id\n",
    "\n",
    "G = nx.Graph()\n",
    "node_id = 0\n",
    "\n",
    "track_type = 0\n",
    "album_type = 1\n",
    "genre_type = 2\n",
    "artist_type = 3\n",
    "# term_type = 0\n",
    "\n",
    "track_map = {}\n",
    "album_map = {}\n",
    "genre_map = {}\n",
    "artist_map = {}\n",
    "# term_map = {}\n",
    "\n",
    "# track\n",
    "for tr in tracks:\n",
    "    info = track_info[tr]\n",
    "    G.add_node(node_id, train=True, val=False, test=False, feature=[track_type], \\\n",
    "               label=[track_type], modal=track_type, content=[tr, info], iden=node_id)\n",
    "    track_map[tr] = node_id\n",
    "    node_id += 1\n",
    "print(\"Added %d\"%(node_id))\n",
    "\n",
    "# album\n",
    "for album in albums:\n",
    "    info = album_info[album]\n",
    "    G.add_node(node_id, train=True, val=False, test=False, feature=[album_type], \\\n",
    "               label=[album_type], modal=album_type, content=[album, info], iden=node_id)\n",
    "    album_map[album] = node_id\n",
    "    node_id += 1\n",
    "print(\"Added %d\"%(node_id))\n",
    "\n",
    "# genre\n",
    "for index, genre in enumerate(genres):\n",
    "    info = genre_info[index]\n",
    "    G.add_node(node_id, train=True, val=False, test=False, feature=[genre_type], \\\n",
    "              label=[genre_type], modal=genre_type, content=[genre, info], iden=node_id)\n",
    "    genre_map[genre] = node_id\n",
    "    node_id += 1\n",
    "print(\"Added %d\"%(node_id))\n",
    "\n",
    "# artist\n",
    "for artist in artists:\n",
    "    info = artist_info[artist]\n",
    "    G.add_node(node_id, train=True, val=False, test=False, feature=[artist_type], \\\n",
    "              label=[artist_type], modal=artist_type, content=[artist, info], iden=node_id)\n",
    "    artist_map[artist] = node_id\n",
    "    node_id += 1\n",
    "print(\"Added %d\"%(node_id))\n",
    "\n",
    "# T-Al\n",
    "# T-G\n",
    "# T-Ar\n",
    "\n",
    "for tr in tracks:\n",
    "    data_term = track.loc[track['track_id'] == tr]\n",
    "    G.add_edge(track_map[tr], album_map[data_term['album_id'].iloc[0]], train_removed=False, test_removed=False)\n",
    "    G.add_edge(track_map[tr], genre_map[data_term['genre_top'].iloc[0]], train_removed=False, test_removed=False)\n",
    "    G.add_edge(track_map[tr], artist_map[data_term['artist_id'].iloc[0]], train_removed=False, test_removed=False)\n",
    "    "
   ]
  },
  {
   "cell_type": "code",
   "execution_count": null,
   "metadata": {},
   "outputs": [],
   "source": []
  }
 ],
 "metadata": {
  "kernelspec": {
   "display_name": "Python 3",
   "language": "python",
   "name": "python3"
  },
  "language_info": {
   "codemirror_mode": {
    "name": "ipython",
    "version": 3
   },
   "file_extension": ".py",
   "mimetype": "text/x-python",
   "name": "python",
   "nbconvert_exporter": "python",
   "pygments_lexer": "ipython3",
   "version": "3.6.5"
  }
 },
 "nbformat": 4,
 "nbformat_minor": 2
}
